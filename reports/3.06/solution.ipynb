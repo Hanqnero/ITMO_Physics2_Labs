{
 "cells": [
  {
   "cell_type": "code",
   "execution_count": 88,
   "metadata": {},
   "outputs": [],
   "source": [
    "import numpy as np\n",
    "import matplotlib.pyplot as plt\n",
    "import sympy as sp "
   ]
  },
  {
   "cell_type": "code",
   "execution_count": 89,
   "metadata": {},
   "outputs": [],
   "source": [
    "from scipy.constants import epsilon_0"
   ]
  },
  {
   "cell_type": "code",
   "execution_count": 90,
   "metadata": {},
   "outputs": [],
   "source": [
    "plt.rcParams['font.family'] = 'Serif'\n",
    "plt.rcParams['font.serif'] = ['Hoefler', 'Times']\n",
    "plt.rcParams['mathtext.fontset'] = 'stix'"
   ]
  },
  {
   "cell_type": "markdown",
   "metadata": {},
   "source": [
    "# Решатель ЛР 3.06"
   ]
  },
  {
   "cell_type": "code",
   "execution_count": 91,
   "metadata": {},
   "outputs": [],
   "source": [
    "# --- CHANGE THIS --- \n",
    "# Параметры установки\n",
    "standR1 = 47e3\n",
    "standR2 = 470e3\n",
    "standC1 = 1e-6\n",
    "standS  = 500e-6\n",
    "standD  = 0.5e-3"
   ]
  },
  {
   "cell_type": "code",
   "execution_count": 92,
   "metadata": {},
   "outputs": [
    {
     "name": "stdout",
     "output_type": "stream",
     "text": [
      "14.0 13.5\n"
     ]
    }
   ],
   "source": [
    "# -- CHANGE THIS ---\n",
    "# Задание 6\n",
    "\n",
    "measuremntK = 5.0    # Масштаб в В/дел\n",
    "\n",
    "# Измерения из пункта 6 в делениях\n",
    "measurementDs_ticks = 2.8  # Край по Y\n",
    "measurementEs_ticks = 2.7  # Край по X\n",
    "\n",
    "# Предыдущие измерения в вольтах\n",
    "measurementUC1 = measurementDs_ticks * measuremntK\n",
    "measurementUR1 = measurementEs_ticks * measuremntK\n",
    "\n",
    "measurementDr_ticks = 1.0 # Пересечение с осью по Y \n",
    "measurementEc_ticks = 0.6  # Пересечение с осью по X\n",
    "\n",
    "print(measurementUC1, measurementUR1)"
   ]
  },
  {
   "cell_type": "code",
   "execution_count": 93,
   "metadata": {},
   "outputs": [
    {
     "data": {
      "text/plain": [
       "((15,), (15,))"
      ]
     },
     "execution_count": 93,
     "metadata": {},
     "output_type": "execute_result"
    }
   ],
   "source": [
    "# --- CHANGE THIS ---  \n",
    "# Напряжения Таблица 1 Столбец 1\n",
    "table1U = np.array([\n",
    "    17, 15, 13, 11, 9, 7, 5, 4.4, 3.8, 3.2, 2.6, 2.0, 1.4, 0.4, 0.2\n",
    "])\n",
    "\n",
    "# Масштаб Таблица 1 Столбец 2\n",
    "table1Kx = np.array([\n",
    "    5,5,5,5, 2,2,2, 1,1,1,1, 0.5,0.5, 0.2, 0.05\n",
    "])\n",
    "\n",
    "# Масштаб Таблица 1 Столбец 3\n",
    "table1Ky = np.array([\n",
    "    5,5,5,5, 2,2,2, 1, .5,.5,.5, .2, .1, .05, .02\n",
    "])\n",
    "\n",
    "# Абсцисса Таблица 1 Столбец 4\n",
    "table1X = np.array([\n",
    "    2.7,2.4,2.1,1.8,3.6,2.8,2.0,3.6,2.1,2.6,2.1,3.2,2.2,3.1,2.9\n",
    "])\n",
    "\n",
    "# Ордината Таблица 1 Столбец 5\n",
    "table1Y = np.array([\n",
    "    3.3,2.8,2.7,2.3,3.9,2.8,1.4,2.2,3.2,2.3,1.6,2.7,3.1,3.0,1.6\n",
    "])\n",
    "\n",
    "table1U.shape, table1Kx.shape\n"
   ]
  },
  {
   "cell_type": "markdown",
   "metadata": {},
   "source": [
    "# Обработка экспереметальных данных"
   ]
  },
  {
   "cell_type": "markdown",
   "metadata": {},
   "source": [
    "## 1"
   ]
  },
  {
   "cell_type": "markdown",
   "metadata": {},
   "source": [
    "### $D_s$"
   ]
  },
  {
   "cell_type": "code",
   "execution_count": 94,
   "metadata": {},
   "outputs": [
    {
     "name": "stdout",
     "output_type": "stream",
     "text": [
      "0.028\n"
     ]
    }
   ],
   "source": [
    "task1Ds = standC1 / standS * measurementUC1  # Formula 13\n",
    "print(task1Ds)"
   ]
  },
  {
   "cell_type": "markdown",
   "metadata": {},
   "source": [
    "### $E_s$"
   ]
  },
  {
   "cell_type": "code",
   "execution_count": 95,
   "metadata": {},
   "outputs": [
    {
     "data": {
      "text/plain": [
       "297000.0"
      ]
     },
     "execution_count": 95,
     "metadata": {},
     "output_type": "execute_result"
    }
   ],
   "source": [
    "task1Es = (standR1 + standR2) / standR1 * measurementUR1 / standD # Formula 16\n",
    "task1Es"
   ]
  },
  {
   "cell_type": "markdown",
   "metadata": {},
   "source": [
    "### $P_r$\n",
    "\n",
    "$D_r = P_r = \\dfrac{C_1}{s} D_r \\cdot K$"
   ]
  },
  {
   "cell_type": "code",
   "execution_count": 96,
   "metadata": {},
   "outputs": [
    {
     "name": "stdout",
     "output_type": "stream",
     "text": [
      "0.01\n"
     ]
    }
   ],
   "source": [
    "task1Pr = standC1 / standS * measurementDr_ticks * measuremntK\n",
    "print(task1Pr)"
   ]
  },
  {
   "cell_type": "code",
   "execution_count": 97,
   "metadata": {},
   "outputs": [
    {
     "name": "stdout",
     "output_type": "stream",
     "text": [
      "33.0\n"
     ]
    }
   ],
   "source": [
    "task1Ec = (standR1 + standR2) / standR1 * measurementEc_ticks * measuremntK\n",
    "print(task1Ec)"
   ]
  },
  {
   "cell_type": "markdown",
   "metadata": {},
   "source": [
    "## 2"
   ]
  },
  {
   "cell_type": "markdown",
   "metadata": {},
   "source": [
    "![](loop-high-contrast.jpg)"
   ]
  },
  {
   "cell_type": "markdown",
   "metadata": {},
   "source": [
    "Верхнюю и нижнюю кривые аппроксимируем и найдем площадь как интеграл между ними"
   ]
  },
  {
   "cell_type": "code",
   "execution_count": 98,
   "metadata": {},
   "outputs": [
    {
     "name": "stdout",
     "output_type": "stream",
     "text": [
      "[ 0.00188989  0.01559061 -0.06360667 -0.23245769  1.40015967  0.87934986]\n"
     ]
    }
   ],
   "source": [
    "# --- CHANGE THIS ---\n",
    "# точки на верхней кривой по которым вычислится площадь\n",
    "task2TopCurvePoints = np.array([\n",
    "    [-measurementEs_ticks, -measurementDs_ticks],\n",
    "    [-2, -2.1],\n",
    "    [-1, -0.8],\n",
    "    [-measurementEc_ticks, 0],\n",
    "    [0, measurementDr_ticks],\n",
    "    [1, 1.9],\n",
    "    [2, 2.6],\n",
    "    [measurementEs_ticks, measurementDs_ticks]\n",
    "])\n",
    "\n",
    "task2TopCurveCoeffs = np.polyfit(\n",
    "    task2TopCurvePoints[:,0], task2TopCurvePoints[:,1], 5\n",
    ")\n",
    "print(task2TopCurveCoeffs)"
   ]
  },
  {
   "cell_type": "code",
   "execution_count": 99,
   "metadata": {},
   "outputs": [
    {
     "name": "stdout",
     "output_type": "stream",
     "text": [
      "[ 0.00285312 -0.02259873 -0.07403061  0.29483573  1.42513958 -0.9524067 ]\n"
     ]
    }
   ],
   "source": [
    "# --- CHANGE THIS ---\n",
    "# точки на нижней кривой по которым вычислится площадь\n",
    "task2BotCurvePoints = np.array([\n",
    "    [-measurementEs_ticks, -measurementDs_ticks],\n",
    "    [-2, -2.5],\n",
    "    [-1, -2],\n",
    "    [0, -measurementDr_ticks],\n",
    "    [measurementEc_ticks, 0],\n",
    "    [1, 0.7],\n",
    "    [2, 2.2],\n",
    "    [measurementEs_ticks, measurementDs_ticks]\n",
    "])\n",
    "\n",
    "task2BotCurveCoeffs = np.polyfit(\n",
    "    task2BotCurvePoints[:,0], task2BotCurvePoints[:,1], 5\n",
    ")\n",
    "print(task2BotCurveCoeffs)"
   ]
  },
  {
   "cell_type": "code",
   "execution_count": 100,
   "metadata": {},
   "outputs": [
    {
     "data": {
      "image/png": "[encoded data removed]",
      "text/plain": [
       "<Figure size 640x480 with 1 Axes>"
      ]
     },
     "metadata": {},
     "output_type": "display_data"
    }
   ],
   "source": [
    "fig, ax = plt.subplots()\n",
    "ax.set_box_aspect(1)\n",
    "\n",
    "ax.set_xlabel('$E$', loc='right')\n",
    "ax.set_ylabel('$D$', loc='top', rotation=0)\n",
    "\n",
    "ax.scatter(\n",
    "    task2TopCurvePoints[:, 0], task2TopCurvePoints[: ,1],\n",
    "    c='black', s=20, marker='d'\n",
    ")\n",
    "ax.scatter(\n",
    "    task2BotCurvePoints[:, 0], task2BotCurvePoints[: ,1],\n",
    "    c='black', s=20, marker='d'\n",
    ")\n",
    "\n",
    "xs = np.linspace(-measurementEs_ticks, measurementEs_ticks, 100)\n",
    "ytop = np.polyval(task2TopCurveCoeffs,  np.linspace(-measurementEs_ticks, measurementEs_ticks, 100))\n",
    "ybot = np.polyval(task2BotCurveCoeffs,  np.linspace(-measurementEs_ticks, measurementEs_ticks, 100))\n",
    "\n",
    "ax.plot(\n",
    "    xs,\n",
    "    ytop,\n",
    "    '--', c='black', linewidth=1.5\n",
    ")\n",
    "ax.plot(\n",
    "    xs,\n",
    "    ybot,\n",
    "    '--', c='black', linewidth=1.5\n",
    ")\n",
    "\n",
    "ax.fill_between(xs, ytop, ybot, color='black', alpha=.2)\n",
    "\n",
    "ax.grid()\n",
    "\n",
    "fig.savefig('task2fig.svg')"
   ]
  },
  {
   "cell_type": "code",
   "execution_count": 101,
   "metadata": {},
   "outputs": [
    {
     "data": {
      "text/latex": [
       "$\\displaystyle \\operatorname{Poly}{\\left( 0.00188988931500665 x^{5} + 0.0155906127303955 x^{4} - 0.0636066672849179 x^{3} - 0.232457685031377 x^{2} + 1.4001596709756 x + 0.879349855584172, x, domain=\\mathbb{R} \\right)}$"
      ],
      "text/plain": [
       "Poly(0.00188988931500665*x**5 + 0.0155906127303955*x**4 - 0.0636066672849179*x**3 - 0.232457685031377*x**2 + 1.4001596709756*x + 0.879349855584172, x, domain='RR')"
      ]
     },
     "execution_count": 101,
     "metadata": {},
     "output_type": "execute_result"
    }
   ],
   "source": [
    "symbolX = sp.symbols('x', real=True)\n",
    "task2TopPoly =  sp.Poly(task2TopCurveCoeffs, symbolX)\n",
    "task2TopPoly"
   ]
  },
  {
   "cell_type": "code",
   "execution_count": 102,
   "metadata": {},
   "outputs": [
    {
     "data": {
      "text/latex": [
       "$\\displaystyle \\operatorname{Poly}{\\left( 0.00285311694940667 x^{5} - 0.0225987345328868 x^{4} - 0.0740306050510353 x^{3} + 0.294835734778522 x^{2} + 1.42513958419297 x - 0.952406704710386, x, domain=\\mathbb{R} \\right)}$"
      ],
      "text/plain": [
       "Poly(0.00285311694940667*x**5 - 0.0225987345328868*x**4 - 0.0740306050510353*x**3 + 0.294835734778522*x**2 + 1.42513958419297*x - 0.952406704710386, x, domain='RR')"
      ]
     },
     "execution_count": 102,
     "metadata": {},
     "output_type": "execute_result"
    }
   ],
   "source": [
    "task2BotPoly = sp.Poly(task2BotCurveCoeffs, symbolX)\n",
    "task2BotPoly"
   ]
  },
  {
   "cell_type": "markdown",
   "metadata": {},
   "source": [
    "### $S_0$"
   ]
  },
  {
   "cell_type": "code",
   "execution_count": 103,
   "metadata": {},
   "outputs": [
    {
     "data": {
      "text/plain": [
       "5.164242739931286"
      ]
     },
     "execution_count": 103,
     "metadata": {},
     "output_type": "execute_result"
    }
   ],
   "source": [
    "task2CurveArea = sp.integrate( task2TopPoly.as_expr() - task2BotPoly.as_expr() , (symbolX, -measurementEs_ticks, measurementEs_ticks))\n",
    "task2CurveArea = float(task2CurveArea)\n",
    "task2CurveArea"
   ]
  },
  {
   "cell_type": "markdown",
   "metadata": {},
   "source": [
    "### $\\tan \\delta$"
   ]
  },
  {
   "cell_type": "code",
   "execution_count": 104,
   "metadata": {},
   "outputs": [
    {
     "data": {
      "text/plain": [
       "0.21743776703346496"
      ]
     },
     "execution_count": 104,
     "metadata": {},
     "output_type": "execute_result"
    }
   ],
   "source": [
    "task2Tangent = (1 / np.pi) * task2CurveArea / (measurementDs_ticks * measurementEs_ticks)\n",
    "task2Tangent"
   ]
  },
  {
   "cell_type": "markdown",
   "metadata": {},
   "source": [
    "# 3"
   ]
  },
  {
   "cell_type": "markdown",
   "metadata": {},
   "source": [
    "### $E$"
   ]
  },
  {
   "cell_type": "code",
   "execution_count": 105,
   "metadata": {},
   "outputs": [
    {
     "data": {
      "text/plain": [
       "array([297000., 264000., 231000., 198000., 158400., 123200.,  88000.,\n",
       "        79200.,  46200.,  57200.,  46200.,  35200.,  24200.,  13640.,\n",
       "         3190.])"
      ]
     },
     "execution_count": 105,
     "metadata": {},
     "output_type": "execute_result"
    }
   ],
   "source": [
    "table1E = (standR1 + standR2) / standR1 * table1X * table1Kx / standD # Formula 16\n",
    "table1E"
   ]
  },
  {
   "cell_type": "code",
   "execution_count": 106,
   "metadata": {},
   "outputs": [
    {
     "data": {
      "text/plain": [
       "array([3.30e-02, 2.80e-02, 2.70e-02, 2.30e-02, 1.56e-02, 1.12e-02,\n",
       "       5.60e-03, 4.40e-03, 3.20e-03, 2.30e-03, 1.60e-03, 1.08e-03,\n",
       "       6.20e-04, 3.00e-04, 6.40e-05])"
      ]
     },
     "execution_count": 106,
     "metadata": {},
     "output_type": "execute_result"
    }
   ],
   "source": [
    "table1D = standC1 / standS * (table1Y * table1Ky)  # Formula 13\n",
    "table1D"
   ]
  },
  {
   "cell_type": "markdown",
   "metadata": {},
   "source": [
    "### График $ D = D(E) $"
   ]
  },
  {
   "cell_type": "code",
   "execution_count": 107,
   "metadata": {},
   "outputs": [
    {
     "data": {
      "image/png": "[encoded data removed]",
      "text/plain": [
       "<Figure size 640x480 with 1 Axes>"
      ]
     },
     "metadata": {},
     "output_type": "display_data"
    }
   ],
   "source": [
    "fig, ax = plt.subplots()\n",
    "\n",
    "ax.set_xlabel('$E$, кВ/м', loc='right')\n",
    "ax.set_ylabel('$D$, Кл/м$^2$', rotation=0, loc='top', labelpad=-25)\n",
    "\n",
    "ax.plot(table1E*1e-3, table1D, '-', linewidth=1.5, c='black')\n",
    "ax.grid()\n",
    "\n",
    "fig.savefig('task3fig.svg')"
   ]
  },
  {
   "cell_type": "markdown",
   "metadata": {},
   "source": [
    "# 4"
   ]
  },
  {
   "cell_type": "markdown",
   "metadata": {},
   "source": [
    "### $ \\varepsilon $"
   ]
  },
  {
   "cell_type": "code",
   "execution_count": 108,
   "metadata": {},
   "outputs": [
    {
     "data": {
      "text/plain": [
       "array([12548.98963748, 11978.58101759, 13200.88520306, 13119.39825736,\n",
       "       11122.96808776, 10267.35515794,  7187.14861056,  6274.49481874,\n",
       "        7822.746787  ,  4541.33016601,  3911.3733935 ,  3465.2323658 ,\n",
       "        2893.52736269,  2484.03753821,  2265.89906934])"
      ]
     },
     "execution_count": 108,
     "metadata": {},
     "output_type": "execute_result"
    }
   ],
   "source": [
    "table1Epsilon = table1D / table1E / epsilon_0\n",
    "table1Epsilon"
   ]
  },
  {
   "cell_type": "markdown",
   "metadata": {},
   "source": [
    "### График $ \\varepsilon = \\varepsilon(E) $, $\\varepsilon_{нач}$"
   ]
  },
  {
   "cell_type": "code",
   "execution_count": 109,
   "metadata": {},
   "outputs": [
    {
     "name": "stdout",
     "output_type": "stream",
     "text": [
      "3104.4073678697623\n"
     ]
    },
    {
     "data": {
      "text/plain": [
       "<matplotlib.legend.Legend at 0x117d5ee90>"
      ]
     },
     "execution_count": 109,
     "metadata": {},
     "output_type": "execute_result"
    },
    {
     "data": {
      "image/png": "[encoded data removed]",
      "text/plain": [
       "<Figure size 640x480 with 1 Axes>"
      ]
     },
     "metadata": {},
     "output_type": "display_data"
    }
   ],
   "source": [
    "fig, ax = plt.subplots()\n",
    "\n",
    "ax.set_xlabel('$E$, кВ/м$^2$', loc='right')\n",
    "ax.set_ylabel(r'$\\varepsilon$', loc='top', rotation=0, labelpad=-20)\n",
    "ax.grid()\n",
    "\n",
    "ax.plot(\n",
    "    table1E*1e-3, table1Epsilon, \n",
    "    '-', linewidth=1.5, c='black',\n",
    "    label='Эксперимент'\n",
    ")\n",
    "\n",
    "epsilonTrendLine = np.polyfit(table1E*1e-3, table1Epsilon, 1)\n",
    "\n",
    "ax.plot(\n",
    "    table1E*1e-3, np.polyval(epsilonTrendLine, table1E*1e-3),\n",
    "    '--', linewidth=1.5, c='grey',\n",
    "    label='Аппроксимация'\n",
    ")\n",
    "\n",
    "task5EpsilonStart = np.polyval(epsilonTrendLine, 0)\n",
    "print(task5EpsilonStart)\n",
    "\n",
    "ax.scatter(0, task5EpsilonStart, \n",
    "    c='black', marker='o', s=10,\n",
    "    label=r'$\\varepsilon_{нач}$'\n",
    ")\n",
    "\n",
    "ax.legend()\n"
   ]
  },
  {
   "cell_type": "markdown",
   "metadata": {},
   "source": [
    "# 6\n",
    "### $ \\varepsilon_{max} $"
   ]
  },
  {
   "cell_type": "code",
   "execution_count": 110,
   "metadata": {},
   "outputs": [
    {
     "name": "stdout",
     "output_type": "stream",
     "text": [
      "13200.885203061262\n"
     ]
    }
   ],
   "source": [
    "task6EpsilonMax = max(table1Epsilon)\n",
    "print(task6EpsilonMax)"
   ]
  },
  {
   "cell_type": "code",
   "execution_count": 111,
   "metadata": {},
   "outputs": [
    {
     "name": "stdout",
     "output_type": "stream",
     "text": [
      "[2]\n"
     ]
    }
   ],
   "source": [
    "EpsilonMaxIndex, = np.where(table1Epsilon == task6EpsilonMax)\n",
    "print(EpsilonMaxIndex)"
   ]
  },
  {
   "cell_type": "code",
   "execution_count": 112,
   "metadata": {},
   "outputs": [
    {
     "name": "stdout",
     "output_type": "stream",
     "text": [
      "[231000.]\n"
     ]
    }
   ],
   "source": [
    "task6EMax = table1E[EpsilonMaxIndex]\n",
    "print(task6EMax)"
   ]
  },
  {
   "cell_type": "code",
   "execution_count": 113,
   "metadata": {},
   "outputs": [
    {
     "data": {
      "image/png": "[encoded data removed]",
      "text/plain": [
       "<Figure size 640x480 with 1 Axes>"
      ]
     },
     "execution_count": 113,
     "metadata": {},
     "output_type": "execute_result"
    }
   ],
   "source": [
    "fig, ax\n",
    "\n",
    "xlim = ax.get_xlim()\n",
    "ylim = ax.get_ylim()\n",
    "\n",
    "\n",
    "ax.axvline(task6EMax*1e-3,\n",
    "    linestyle='--', linewidth=1, color='grey'\n",
    ")\n",
    "\n",
    "ax.set_xticks(np.concat([ax.get_xticks(), task6EMax*1e-3]))\n",
    "\n",
    "labels = ax.get_xticklabels()\n",
    "labels[-1] = r'$\\varepsilon_{max}$'\n",
    "ax.set_xticklabels(labels)\n",
    "\n",
    "ax.set_xlim(xlim)\n",
    "ax.set_ylim(ylim)\n",
    "\n",
    "fig.savefig('tasks4-6fig.svg')\n",
    "fig"
   ]
  },
  {
   "cell_type": "code",
   "execution_count": 114,
   "metadata": {},
   "outputs": [
    {
     "name": "stdout",
     "output_type": "stream",
     "text": [
      "[ 1],[15.000],[5.00],[5.00],[2.4],[2.8],[264000.00],[0.02800],[11978.581],\n",
      "[ 2],[13.000],[5.00],[5.00],[2.1],[2.7],[231000.00],[0.02700],[13200.885],\n",
      "[ 3],[11.000],[5.00],[5.00],[1.8],[2.3],[198000.00],[0.02300],[13119.398],\n",
      "[ 4],[ 9.000],[2.00],[2.00],[3.6],[3.9],[158400.00],[0.01560],[11122.968],\n",
      "[ 5],[ 7.000],[2.00],[2.00],[2.8],[2.8],[123200.00],[0.01120],[10267.355],\n",
      "[ 6],[ 5.000],[2.00],[2.00],[2.0],[1.4],[ 88000.00],[0.00560],[ 7187.149],\n",
      "[ 7],[ 4.400],[1.00],[1.00],[3.6],[2.2],[ 79200.00],[0.00440],[ 6274.495],\n",
      "[ 8],[ 3.800],[1.00],[0.50],[2.1],[3.2],[ 46200.00],[0.00320],[ 7822.747],\n",
      "[ 9],[ 3.200],[1.00],[0.50],[2.6],[2.3],[ 57200.00],[0.00230],[ 4541.330],\n",
      "[10],[ 2.600],[1.00],[0.50],[2.1],[1.6],[ 46200.00],[0.00160],[ 3911.373],\n",
      "[11],[ 2.000],[0.50],[0.20],[3.2],[2.7],[ 35200.00],[0.00108],[ 3465.232],\n",
      "[12],[ 1.400],[0.50],[0.10],[2.2],[3.1],[ 24200.00],[0.00062],[ 2893.527],\n",
      "[13],[ 0.400],[0.20],[0.05],[3.1],[3.0],[ 13640.00],[0.00030],[ 2484.038],\n",
      "[14],[ 0.200],[0.05],[0.02],[2.9],[1.6],[  3190.00],[0.00006],[ 2265.899],\n"
     ]
    }
   ],
   "source": [
    "for no in range(1, len(table1U)):\n",
    "    print(f'[{no:2d}]', end=',')\n",
    "    print(f'[{table1U[no]:6.3f}]', end=',')\n",
    "    print(f'[{table1Kx[no]:.2f}]', end=',')\n",
    "    print(f'[{table1Ky[no]:.2f}]', end=',')\n",
    "    print(f'[{table1X[no]:.1f}]', end=',')\n",
    "    print(f'[{table1Y[no]:.1f}]', end=',')\n",
    "    print(f'[{table1E[no]:9.2f}]', end=',')\n",
    "    print(f'[{table1D[no]:7.5f}]', end=',')\n",
    "    print(f'[{table1Epsilon[no]:9.3f}]', end=',')\n",
    "    print()"
   ]
  },
  {
   "cell_type": "code",
   "execution_count": null,
   "metadata": {},
   "outputs": [],
   "source": []
  }
 ],
 "metadata": {
  "kernelspec": {
   "display_name": "jupyter3.13",
   "language": "python",
   "name": "python3"
  },
  "language_info": {
   "codemirror_mode": {
    "name": "ipython",
    "version": 3
   },
   "file_extension": ".py",
   "mimetype": "text/x-python",
   "name": "python",
   "nbconvert_exporter": "python",
   "pygments_lexer": "ipython3",
   "version": "3.13.1"
  }
 },
 "nbformat": 4,
 "nbformat_minor": 2
}
