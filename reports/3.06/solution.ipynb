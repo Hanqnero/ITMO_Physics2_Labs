{
 "cells": [
  {
   "cell_type": "code",
   "execution_count": null,
   "metadata": {},
   "outputs": [],
   "source": [
    "import numpy as np\n",
    "import matplotlib.pyplot as plt\n",
    "import sympy as sp "
   ]
  },
  {
   "cell_type": "code",
   "execution_count": 182,
   "metadata": {},
   "outputs": [],
   "source": [
    "from scipy.constants import epsilon_0"
   ]
  },
  {
   "cell_type": "code",
   "execution_count": 162,
   "metadata": {},
   "outputs": [],
   "source": [
    "plt.rcParams['font.family'] = 'Serif'\n",
    "plt.rcParams['font.serif'] = 'Times'\n",
    "plt.rcParams['mathtext.fontset'] = 'stix'"
   ]
  },
  {
   "cell_type": "markdown",
   "metadata": {},
   "source": [
    "# Решатель ЛР 3.06"
   ]
  },
  {
   "cell_type": "code",
   "execution_count": 163,
   "metadata": {},
   "outputs": [],
   "source": [
    "# --- CHANGE THIS --- \n",
    "# Параметры установки\n",
    "standR1 = 47e3\n",
    "standR2 = 470e3\n",
    "standC1 = 1e-6\n",
    "standS  = 500e-6\n",
    "standD  = 0.5e-3"
   ]
  },
  {
   "cell_type": "code",
   "execution_count": 164,
   "metadata": {},
   "outputs": [],
   "source": [
    "# -- CHANGE THIS ---\n",
    "# Задание 6\n",
    "\n",
    "measuremntK = 5.0    # Масштаб в В/дел\n",
    "\n",
    "# Измерения из пункта 6 в делениях\n",
    "measurementDs_ticks = 2.8  # Край по Y\n",
    "measurementEs_ticks = 2.7  # Край по X\n",
    "\n",
    "# Предыдущие измерения в вольтах\n",
    "measurementUC1 = measurementDs_ticks * measuremntK\n",
    "measurementUR1 = measurementEs_ticks * measuremntK\n",
    "\n",
    "measurementDr_ticks = 1.0 # Пересечение с осью по Y \n",
    "measurementEc_ticks = 0.6  # Пересечение с осью по X"
   ]
  },
  {
   "cell_type": "code",
   "execution_count": 165,
   "metadata": {},
   "outputs": [
    {
     "data": {
      "text/plain": [
       "((15,), (15,))"
      ]
     },
     "execution_count": 165,
     "metadata": {},
     "output_type": "execute_result"
    }
   ],
   "source": [
    "# --- CHANGE THIS ---  \n",
    "# Напряжения Таблица 1 Столбец 1\n",
    "table1U = np.array([\n",
    "    17, 15, 13, 11, 9, 7, 5, 4.4, 3.8, 3.2, 2.6, 2.0, 1.4, 0.4, 0.2\n",
    "])\n",
    "\n",
    "# Масштаб Таблица 1 Столбец 2\n",
    "table1Kx = np.array([\n",
    "    5,5,5,5, 2,2,2, 1,1,1,1, 0.5,0.5, 0.2, 0.05\n",
    "])\n",
    "\n",
    "# Масштаб Таблица 1 Столбец 3\n",
    "table1Ky = np.array([\n",
    "    5,5,5,5, 2,2,2, 1, .5,.5,.5, .2, .1, .05, .02\n",
    "])\n",
    "\n",
    "# Абсцисса Таблица 1 Столбец 4\n",
    "table1X = np.array([\n",
    "    2.7,2.4,2.1,1.8,3.6,2.8,2.0,3.6,2.1,2.6,2.1,3.2,2.2,3.1,2.9\n",
    "])\n",
    "\n",
    "# Ордината Таблица 1 Столбец 5\n",
    "table1Y = np.array([\n",
    "    3.3,2.8,2.7,2.3,3.9,2.8,1.4,2.2,3.2,2.3,1.6,2.7,3.1,3.0,1.6\n",
    "])\n",
    "\n",
    "table1U.shape, table1Kx.shape\n"
   ]
  },
  {
   "cell_type": "markdown",
   "metadata": {},
   "source": [
    "# Обработка экспереметальных данных"
   ]
  },
  {
   "cell_type": "markdown",
   "metadata": {},
   "source": [
    "## 1"
   ]
  },
  {
   "cell_type": "markdown",
   "metadata": {},
   "source": [
    "### $D_s$"
   ]
  },
  {
   "cell_type": "code",
   "execution_count": 166,
   "metadata": {},
   "outputs": [
    {
     "name": "stdout",
     "output_type": "stream",
     "text": [
      "0.028\n"
     ]
    }
   ],
   "source": [
    "task1Ds = standC1 / standS * measurementUC1  # Formula 13\n",
    "print(task1Ds)"
   ]
  },
  {
   "cell_type": "markdown",
   "metadata": {},
   "source": [
    "### $E_s$"
   ]
  },
  {
   "cell_type": "code",
   "execution_count": 167,
   "metadata": {},
   "outputs": [
    {
     "data": {
      "text/plain": [
       "297000.0"
      ]
     },
     "execution_count": 167,
     "metadata": {},
     "output_type": "execute_result"
    }
   ],
   "source": [
    "task1Es = (standR1 + standR2) / standR1 * measurementUR1 / standD # Formula 16\n",
    "task1Es"
   ]
  },
  {
   "cell_type": "markdown",
   "metadata": {},
   "source": [
    "### $P_r$\n",
    "\n",
    "$D_r = P_r = \\dfrac{C_1}{s} D_r \\cdot K$"
   ]
  },
  {
   "cell_type": "code",
   "execution_count": 168,
   "metadata": {},
   "outputs": [
    {
     "name": "stdout",
     "output_type": "stream",
     "text": [
      "0.01\n"
     ]
    }
   ],
   "source": [
    "task1Pr = standC1 / standS * measurementDr_ticks * measuremntK\n",
    "print(task1Pr)"
   ]
  },
  {
   "cell_type": "code",
   "execution_count": 169,
   "metadata": {},
   "outputs": [
    {
     "name": "stdout",
     "output_type": "stream",
     "text": [
      "33.0\n"
     ]
    }
   ],
   "source": [
    "task1Ec = (standR1 + standR2) / standR1 * measurementEc_ticks * measuremntK\n",
    "print(task1Ec)"
   ]
  },
  {
   "cell_type": "markdown",
   "metadata": {},
   "source": [
    "## 2"
   ]
  },
  {
   "cell_type": "markdown",
   "metadata": {},
   "source": [
    "![](loop-high-contrast.jpg)"
   ]
  },
  {
   "cell_type": "markdown",
   "metadata": {},
   "source": [
    "Верхнюю и нижнюю кривые аппроксимируем и найдем площадь как интеграл между ними"
   ]
  },
  {
   "cell_type": "code",
   "execution_count": 170,
   "metadata": {},
   "outputs": [
    {
     "name": "stdout",
     "output_type": "stream",
     "text": [
      "[ 0.00188989  0.01559061 -0.06360667 -0.23245769  1.40015967  0.87934986]\n"
     ]
    }
   ],
   "source": [
    "# --- CHANGE THIS ---\n",
    "# точки на верхней кривой по которым вычислится площадь\n",
    "task2TopCurvePoints = np.array([\n",
    "    [-measurementEs_ticks, -measurementDs_ticks],\n",
    "    [-2, -2.1],\n",
    "    [-1, -0.8],\n",
    "    [-measurementEc_ticks, 0],\n",
    "    [0, measurementDr_ticks],\n",
    "    [1, 1.9],\n",
    "    [2, 2.6],\n",
    "    [measurementEs_ticks, measurementDs_ticks]\n",
    "])\n",
    "\n",
    "task2TopCurveCoeffs = np.polyfit(\n",
    "    task2TopCurvePoints[:,0], task2TopCurvePoints[:,1], 5\n",
    ")\n",
    "print(task2TopCurveCoeffs)"
   ]
  },
  {
   "cell_type": "code",
   "execution_count": 171,
   "metadata": {},
   "outputs": [
    {
     "name": "stdout",
     "output_type": "stream",
     "text": [
      "[ 0.00285312 -0.02259873 -0.07403061  0.29483573  1.42513958 -0.9524067 ]\n"
     ]
    }
   ],
   "source": [
    "# --- CHANGE THIS ---\n",
    "# точки на нижней кривой по которым вычислится площадь\n",
    "task2BotCurvePoints = np.array([\n",
    "    [-measurementEs_ticks, -measurementDs_ticks],\n",
    "    [-2, -2.5],\n",
    "    [-1, -2],\n",
    "    [0, -measurementDr_ticks],\n",
    "    [measurementEc_ticks, 0],\n",
    "    [1, 0.7],\n",
    "    [2, 2.2],\n",
    "    [measurementEs_ticks, measurementDs_ticks]\n",
    "])\n",
    "\n",
    "task2BotCurveCoeffs = np.polyfit(\n",
    "    task2BotCurvePoints[:,0], task2BotCurvePoints[:,1], 5\n",
    ")\n",
    "print(task2BotCurveCoeffs)"
   ]
  },
  {
   "cell_type": "code",
   "execution_count": 172,
   "metadata": {},
   "outputs": [
    {
     "data": {
      "image/png": "[encoded data removed]",
      "text/plain": [
       "<Figure size 640x480 with 1 Axes>"
      ]
     },
     "metadata": {},
     "output_type": "display_data"
    }
   ],
   "source": [
    "fig, ax = plt.subplots()\n",
    "ax.set_box_aspect(1)\n",
    "\n",
    "ax.set_xlabel('$E$', loc='right')\n",
    "ax.set_ylabel('$D$', loc='top', rotation=0)\n",
    "\n",
    "ax.scatter(\n",
    "    task2TopCurvePoints[:, 0], task2TopCurvePoints[: ,1],\n",
    "    c='black', s=20, marker='d'\n",
    ")\n",
    "ax.scatter(\n",
    "    task2BotCurvePoints[:, 0], task2BotCurvePoints[: ,1],\n",
    "    c='black', s=20, marker='d'\n",
    ")\n",
    "\n",
    "xs = np.linspace(-measurementEs_ticks, measurementEs_ticks, 100)\n",
    "ytop = np.polyval(task2TopCurveCoeffs,  np.linspace(-measurementEs_ticks, measurementEs_ticks, 100))\n",
    "ybot = np.polyval(task2BotCurveCoeffs,  np.linspace(-measurementEs_ticks, measurementEs_ticks, 100))\n",
    "\n",
    "ax.plot(\n",
    "    xs,\n",
    "    ytop,\n",
    "    '--', c='black', linewidth=1.5\n",
    ")\n",
    "ax.plot(\n",
    "    xs,\n",
    "    ybot,\n",
    "    '--', c='black', linewidth=1.5\n",
    ")\n",
    "\n",
    "ax.fill_between(xs, ytop, ybot, color='black', alpha=.2)\n",
    "\n",
    "ax.grid()"
   ]
  },
  {
   "cell_type": "code",
   "execution_count": 173,
   "metadata": {},
   "outputs": [
    {
     "data": {
      "text/latex": [
       "$\\displaystyle \\operatorname{Poly}{\\left( 0.00188988931500665 x^{5} + 0.0155906127303955 x^{4} - 0.0636066672849179 x^{3} - 0.232457685031377 x^{2} + 1.4001596709756 x + 0.879349855584172, x, domain=\\mathbb{R} \\right)}$"
      ],
      "text/plain": [
       "Poly(0.00188988931500665*x**5 + 0.0155906127303955*x**4 - 0.0636066672849179*x**3 - 0.232457685031377*x**2 + 1.4001596709756*x + 0.879349855584172, x, domain='RR')"
      ]
     },
     "execution_count": 173,
     "metadata": {},
     "output_type": "execute_result"
    }
   ],
   "source": [
    "symbolX = sp.symbols('x', real=True)\n",
    "task2TopPoly =  sp.Poly(task2TopCurveCoeffs, symbolX)\n",
    "task2TopPoly"
   ]
  },
  {
   "cell_type": "code",
   "execution_count": 174,
   "metadata": {},
   "outputs": [
    {
     "data": {
      "text/latex": [
       "$\\displaystyle \\operatorname{Poly}{\\left( 0.00285311694940667 x^{5} - 0.0225987345328868 x^{4} - 0.0740306050510353 x^{3} + 0.294835734778522 x^{2} + 1.42513958419297 x - 0.952406704710386, x, domain=\\mathbb{R} \\right)}$"
      ],
      "text/plain": [
       "Poly(0.00285311694940667*x**5 - 0.0225987345328868*x**4 - 0.0740306050510353*x**3 + 0.294835734778522*x**2 + 1.42513958419297*x - 0.952406704710386, x, domain='RR')"
      ]
     },
     "execution_count": 174,
     "metadata": {},
     "output_type": "execute_result"
    }
   ],
   "source": [
    "task2BotPoly = sp.Poly(task2BotCurveCoeffs, symbolX)\n",
    "task2BotPoly"
   ]
  },
  {
   "cell_type": "markdown",
   "metadata": {},
   "source": [
    "### $S_0$"
   ]
  },
  {
   "cell_type": "code",
   "execution_count": 175,
   "metadata": {},
   "outputs": [
    {
     "data": {
      "text/plain": [
       "5.164242739931286"
      ]
     },
     "execution_count": 175,
     "metadata": {},
     "output_type": "execute_result"
    }
   ],
   "source": [
    "task2CurveArea = sp.integrate( task2TopPoly.as_expr() - task2BotPoly.as_expr() , (symbolX, -measurementEs_ticks, measurementEs_ticks))\n",
    "task2CurveArea = float(task2CurveArea)\n",
    "task2CurveArea"
   ]
  },
  {
   "cell_type": "markdown",
   "metadata": {},
   "source": [
    "### $\\tan \\delta$"
   ]
  },
  {
   "cell_type": "code",
   "execution_count": 176,
   "metadata": {},
   "outputs": [
    {
     "data": {
      "text/plain": [
       "0.21743776703346496"
      ]
     },
     "execution_count": 176,
     "metadata": {},
     "output_type": "execute_result"
    }
   ],
   "source": [
    "task2Tangent = (1 / np.pi) * task2CurveArea / (measurementDs_ticks * measurementEs_ticks)\n",
    "task2Tangent"
   ]
  },
  {
   "cell_type": "markdown",
   "metadata": {},
   "source": [
    "# 3"
   ]
  },
  {
   "cell_type": "markdown",
   "metadata": {},
   "source": [
    "### $E$"
   ]
  },
  {
   "cell_type": "code",
   "execution_count": 177,
   "metadata": {},
   "outputs": [
    {
     "data": {
      "text/plain": [
       "array([297000., 264000., 231000., 198000., 158400., 123200.,  88000.,\n",
       "        79200.,  46200.,  57200.,  46200.,  35200.,  24200.,  13640.,\n",
       "         3190.])"
      ]
     },
     "execution_count": 177,
     "metadata": {},
     "output_type": "execute_result"
    }
   ],
   "source": [
    "table1E = (standR1 + standR2) / standR1 * table1X * table1Kx / standD # Formula 16\n",
    "table1E"
   ]
  },
  {
   "cell_type": "code",
   "execution_count": 178,
   "metadata": {},
   "outputs": [
    {
     "data": {
      "text/plain": [
       "array([3.30e-02, 2.80e-02, 2.70e-02, 2.30e-02, 1.56e-02, 1.12e-02,\n",
       "       5.60e-03, 4.40e-03, 3.20e-03, 2.30e-03, 1.60e-03, 1.08e-03,\n",
       "       6.20e-04, 3.00e-04, 6.40e-05])"
      ]
     },
     "execution_count": 178,
     "metadata": {},
     "output_type": "execute_result"
    }
   ],
   "source": [
    "table1D = standC1 / standS * (table1Y * table1Ky)  # Formula 13\n",
    "table1D"
   ]
  },
  {
   "cell_type": "markdown",
   "metadata": {},
   "source": [
    "### График $ D = D(E) $"
   ]
  },
  {
   "cell_type": "code",
   "execution_count": 180,
   "metadata": {},
   "outputs": [
    {
     "data": {
      "image/png": "[encoded data removed]",
      "text/plain": [
       "<Figure size 640x480 with 1 Axes>"
      ]
     },
     "metadata": {},
     "output_type": "display_data"
    }
   ],
   "source": [
    "fig, ax = plt.subplots()\n",
    "\n",
    "ax.set_xlabel('$E$, кВ/м', loc='right')\n",
    "ax.set_ylabel('$D$, Кл/м$^2$', rotation=0, loc='top', labelpad=-25)\n",
    "\n",
    "ax.plot(table1E*1e-3, table1D, '-', linewidth=1.5, c='black')\n",
    "ax.grid()"
   ]
  },
  {
   "cell_type": "markdown",
   "metadata": {},
   "source": [
    "# 4"
   ]
  },
  {
   "cell_type": "markdown",
   "metadata": {},
   "source": [
    "### $ \\varepsilon $"
   ]
  },
  {
   "cell_type": "code",
   "execution_count": 184,
   "metadata": {},
   "outputs": [
    {
     "data": {
      "text/plain": [
       "array([12548.98963748, 11978.58101759, 13200.88520306, 13119.39825736,\n",
       "       11122.96808776, 10267.35515794,  7187.14861056,  6274.49481874,\n",
       "        7822.746787  ,  4541.33016601,  3911.3733935 ,  3465.2323658 ,\n",
       "        2893.52736269,  2484.03753821,  2265.89906934])"
      ]
     },
     "execution_count": 184,
     "metadata": {},
     "output_type": "execute_result"
    }
   ],
   "source": [
    "table1Epsilon = table1D / table1E / epsilon_0\n",
    "table1Epsilon"
   ]
  },
  {
   "cell_type": "markdown",
   "metadata": {},
   "source": [
    "### График $ \\varepsilon = \\varepsilon(E) $"
   ]
  },
  {
   "cell_type": "code",
   "execution_count": 196,
   "metadata": {},
   "outputs": [
    {
     "data": {
      "text/plain": [
       "[<matplotlib.lines.Line2D at 0x122ee56d0>]"
      ]
     },
     "execution_count": 196,
     "metadata": {},
     "output_type": "execute_result"
    },
    {
     "data": {
      "image/png": "[encoded data removed]",
      "text/plain": [
       "<Figure size 640x480 with 1 Axes>"
      ]
     },
     "metadata": {},
     "output_type": "display_data"
    }
   ],
   "source": [
    "fig, ax = plt.subplots()\n",
    "\n",
    "ax.set_xlabel('$E$, кВ/м$^2$', loc='right')\n",
    "ax.set_ylabel(r'$\\varepsilon$', loc='top', rotation=0, labelpad=-20)\n",
    "ax.grid()\n",
    "\n",
    "ax.plot(table1E*1e-3, table1Epsilon, '-', linewidth=1.5, c='black')\n",
    "\n"
   ]
  },
  {
   "cell_type": "code",
   "execution_count": 197,
   "metadata": {},
   "outputs": [
    {
     "data": {
      "text/plain": [
       "np.float64(13200.885203061262)"
      ]
     },
     "execution_count": 197,
     "metadata": {},
     "output_type": "execute_result"
    }
   ],
   "source": [
    "task6EpsilonMax = max(table1Epsilon)\n",
    "task6EpsilonMax"
   ]
  },
  {
   "cell_type": "code",
   "execution_count": null,
   "metadata": {},
   "outputs": [],
   "source": []
  }
 ],
 "metadata": {
  "kernelspec": {
   "display_name": "jupyter3.13",
   "language": "python",
   "name": "python3"
  },
  "language_info": {
   "codemirror_mode": {
    "name": "ipython",
    "version": 3
   },
   "file_extension": ".py",
   "mimetype": "text/x-python",
   "name": "python",
   "nbconvert_exporter": "python",
   "pygments_lexer": "ipython3",
   "version": "3.13.1"
  }
 },
 "nbformat": 4,
 "nbformat_minor": 2
}
